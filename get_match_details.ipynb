{
 "cells": [
  {
   "cell_type": "markdown",
   "metadata": {},
   "source": [
    "# VLR.gg Scraping"
   ]
  },
  {
   "cell_type": "markdown",
   "metadata": {},
   "source": [
    "## Getting match data"
   ]
  },
  {
   "cell_type": "code",
   "execution_count": 37,
   "metadata": {},
   "outputs": [],
   "source": [
    "import json\n",
    "import requests\n",
    "from bs4 import BeautifulSoup\n",
    "\n",
    "# Load the URLs from the JSON file\n",
    "with open('./data/match_urls.json', 'r') as f:\n",
    "    urls = json.load(f)"
   ]
  },
  {
   "cell_type": "code",
   "execution_count": 38,
   "metadata": {},
   "outputs": [
    {
     "name": "stdout",
     "output_type": "stream",
     "text": [
      "Total urls: 23722\n"
     ]
    },
    {
     "data": {
      "text/plain": [
       "'https://www.vlr.gg/293948/bar-a-esports-vs-aym-esports-challengers-league-2024-spain-rising-split-1-r9'"
      ]
     },
     "execution_count": 38,
     "metadata": {},
     "output_type": "execute_result"
    }
   ],
   "source": [
    "print(f'Total urls: {len(urls)}')\n",
    "first_two = urls[:2]\n",
    "first_two[0]"
   ]
  },
  {
   "cell_type": "code",
   "execution_count": 39,
   "metadata": {},
   "outputs": [],
   "source": [
    "def extract_overview(team_div: BeautifulSoup) -> dict:\n",
    "    # Extract the team's score\n",
    "    team_score_div = team_div.find('div', class_='score')\n",
    "    team_score = team_score_div.text.strip() if team_score_div else None\n",
    "\n",
    "    # Extract the team's name\n",
    "    team_name_div = team_div.find('div', class_='team-name')\n",
    "    team_name = team_name_div.text.strip() if team_name_div else None\n",
    "\n",
    "    # Extract the T-side and CT-side rounds won\n",
    "    t_side_score_div = team_div.find('span', class_='mod-t')\n",
    "    t_side_score = t_side_score_div.text.strip() if t_side_score_div else None\n",
    "\n",
    "    ct_side_score_div = team_div.find('span', class_='mod-ct')\n",
    "    ct_side_score = ct_side_score_div.text.strip() if ct_side_score_div else None\n",
    "\n",
    "    team_overview = {\n",
    "        'name': team_name,\n",
    "        'score': team_score,\n",
    "        't_side_score': t_side_score,\n",
    "        'ct_side_score': ct_side_score\n",
    "    }\n",
    "\n",
    "    return team_overview"
   ]
  },
  {
   "cell_type": "code",
   "execution_count": 40,
   "metadata": {},
   "outputs": [],
   "source": [
    "def scrape_game(game_div: BeautifulSoup) -> dict:\n",
    "    # Check if the div contains details\n",
    "    if not game_div.find('div', class_='vm-stats-game-header'):\n",
    "        return None\n",
    "\n",
    "    # Find the team_left_div and team_right_div\n",
    "    team_divs = game_div.find_all('div', class_='team')\n",
    "    team_left_div, team_right_div = team_divs[0], team_divs[1]\n",
    "\n",
    "    # Extract the game overview\n",
    "    team_left_overview = extract_overview(team_left_div)\n",
    "    team_right_overview = extract_overview(team_right_div)\n",
    "\n",
    "    # Extract the map name and game duration\n",
    "    map_div = game_div.find('div', class_='map')\n",
    "    map_name_span = map_div.find('span')\n",
    "    map_name = map_name_span.text.strip() if map_name_span else None\n",
    "\n",
    "    game_duration_div = map_div.find('div', class_='map-duration')\n",
    "    game_duration = game_duration_div.text.strip() if game_duration_div else None\n",
    "\n",
    "    game_data = {\n",
    "        'map': {\n",
    "            'name': map_name,\n",
    "            'duration': game_duration\n",
    "        },\n",
    "        'team_left': team_left_overview,\n",
    "        'team_right': team_right_overview\n",
    "    }\n",
    "\n",
    "    return game_data"
   ]
  },
  {
   "cell_type": "code",
   "execution_count": 41,
   "metadata": {},
   "outputs": [],
   "source": [
    "def scrape_match(url: str) -> dict:\n",
    "    response = requests.get(url)\n",
    "    soup = BeautifulSoup(response.content, 'html.parser')\n",
    "\n",
    "    # Basic data\n",
    "    match_header_vs_div = soup.find('div', class_='match-header-vs')\n",
    "    team_names = [div.text.strip() for div in match_header_vs_div.find_all('div', class_='wf-title-med')]\n",
    "\n",
    "    scoreline_div = soup.find('div', class_='match-header-vs-score')\n",
    "    winner_score = scoreline_div.find('span', class_='match-header-vs-score-winner').text.strip()\n",
    "    loser_score = scoreline_div.find('span', class_='match-header-vs-score-loser').text.strip()\n",
    "    scoreline = f'{winner_score}:{loser_score}'\n",
    "\n",
    "    stage = soup.find('div', class_='match-header-vs-note').text.strip() # e.g. Final, Semi-final, etc.\n",
    "    match_type = soup.find_all('div', class_='match-header-vs-note')[1].text.strip() # e.g. Best of 3, Best of 5, etc.\n",
    "\n",
    "    match_header_date_div = soup.find('div', class_='match-header-date')\n",
    "    date = match_header_date_div.find_all('div', class_='moment-tz-convert')[0].text.strip()\n",
    "    time = match_header_date_div.find_all('div', class_='moment-tz-convert')[1].text.strip()\n",
    "\n",
    "    # Map-specific details\n",
    "    stats_container_div = soup.find('div', class_='vm-stats-container')\n",
    "    game_divs = stats_container_div.find_all('div', class_='vm-stats-game')\n",
    "    game_data = [scrape_game(div) for div in game_divs if scrape_game(div) is not None]\n",
    "\n",
    "    match_data = {\n",
    "        'team_1': team_names[0],\n",
    "        'team_2': team_names[1],\n",
    "        'scoreline': scoreline,\n",
    "        'stage': stage,\n",
    "        'match_type': match_type,\n",
    "        'date': date,\n",
    "        'time': time,\n",
    "        'games': game_data\n",
    "    }\n",
    "\n",
    "    return match_data"
   ]
  },
  {
   "cell_type": "code",
   "execution_count": 42,
   "metadata": {},
   "outputs": [],
   "source": [
    "from pprint import pprint\n",
    "\n",
    "# Test match, random\n",
    "match_data = scrape_match(first_two[0])"
   ]
  },
  {
   "cell_type": "code",
   "execution_count": 43,
   "metadata": {},
   "outputs": [
    {
     "name": "stdout",
     "output_type": "stream",
     "text": [
      "{'date': 'Friday, December 8th',\n",
      " 'games': [{'map': {'duration': '38:00',\n",
      "                    'name': 'Haven\\t\\t\\t\\t\\t\\t\\t\\t\\t\\t\\t\\t\\t\\t\\n'\n",
      "                            '\\t\\t\\t\\t\\t\\t\\t\\tPICK'},\n",
      "            'team_left': {'ct_side_score': '9',\n",
      "                          'name': 'Team Liquid',\n",
      "                          'score': '13',\n",
      "                          't_side_score': '4'},\n",
      "            'team_right': {'ct_side_score': '2',\n",
      "                           'name': 'EDward Gaming',\n",
      "                           'score': '5',\n",
      "                           't_side_score': '3'}},\n",
      "           {'map': {'duration': '34:22',\n",
      "                    'name': 'Lotus\\t\\t\\t\\t\\t\\t\\t\\t\\t\\t\\t\\t\\t\\t\\n'\n",
      "                            '\\t\\t\\t\\t\\t\\t\\t\\tPICK'},\n",
      "            'team_left': {'ct_side_score': '11',\n",
      "                          'name': 'Team Liquid',\n",
      "                          'score': '13',\n",
      "                          't_side_score': '2'},\n",
      "            'team_right': {'ct_side_score': '2',\n",
      "                           'name': 'EDward Gaming',\n",
      "                           'score': '3',\n",
      "                           't_side_score': '1'}}],\n",
      " 'match_type': 'Bo3',\n",
      " 'scoreline': '2:0',\n",
      " 'stage': 'final',\n",
      " 'team_1': 'Team Liquid',\n",
      " 'team_2': 'EDward Gaming',\n",
      " 'time': '4:00 PM EET'}\n"
     ]
    }
   ],
   "source": [
    "from pprint import pprint\n",
    "\n",
    "# VCT game, recent\n",
    "pprint(scrape_match('https://www.vlr.gg/286651/team-liquid-vs-edward-gaming-afreecatv-valorant-league-decider-b/'))"
   ]
  },
  {
   "cell_type": "code",
   "execution_count": 44,
   "metadata": {},
   "outputs": [
    {
     "name": "stdout",
     "output_type": "stream",
     "text": [
      "{'date': 'Saturday, April 25th',\n",
      " 'games': [{'map': {'duration': '-', 'name': 'Split'},\n",
      "            'team_left': {'ct_side_score': '3',\n",
      "                          'name': 'Prodigy',\n",
      "                          'score': '5',\n",
      "                          't_side_score': '2'},\n",
      "            'team_right': {'ct_side_score': '4',\n",
      "                           'name': 'fish123',\n",
      "                           'score': '13',\n",
      "                           't_side_score': '9'}}],\n",
      " 'match_type': 'Bo1',\n",
      " 'scoreline': '1:0',\n",
      " 'stage': 'final',\n",
      " 'team_1': 'Prodigy',\n",
      " 'team_2': 'fish123',\n",
      " 'time': '9:00 PM EEST'}\n"
     ]
    }
   ],
   "source": [
    "# Old game\n",
    "pprint(scrape_match('https://www.vlr.gg/191/prodigy-vs-fish123-cooler-cup-playoffs-qf'))"
   ]
  }
 ],
 "metadata": {
  "kernelspec": {
   "display_name": "vlr_scraper",
   "language": "python",
   "name": "python3"
  },
  "language_info": {
   "codemirror_mode": {
    "name": "ipython",
    "version": 3
   },
   "file_extension": ".py",
   "mimetype": "text/x-python",
   "name": "python",
   "nbconvert_exporter": "python",
   "pygments_lexer": "ipython3",
   "version": "3.12.1"
  }
 },
 "nbformat": 4,
 "nbformat_minor": 2
}
