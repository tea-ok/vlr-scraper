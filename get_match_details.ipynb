{
 "cells": [
  {
   "cell_type": "markdown",
   "metadata": {},
   "source": [
    "# VLR.gg Scraping"
   ]
  },
  {
   "cell_type": "markdown",
   "metadata": {},
   "source": [
    "## Getting match data"
   ]
  },
  {
   "cell_type": "code",
   "execution_count": 1,
   "metadata": {},
   "outputs": [],
   "source": [
    "import json\n",
    "import requests\n",
    "from bs4 import BeautifulSoup\n",
    "\n",
    "# Load the URLs from the JSON file\n",
    "with open('./data/match_urls.json', 'r') as f:\n",
    "    urls = json.load(f)"
   ]
  },
  {
   "cell_type": "code",
   "execution_count": 11,
   "metadata": {},
   "outputs": [
    {
     "name": "stdout",
     "output_type": "stream",
     "text": [
      "Total urls: 23722\n"
     ]
    },
    {
     "data": {
      "text/plain": [
       "'https://www.vlr.gg/293948/bar-a-esports-vs-aym-esports-challengers-league-2024-spain-rising-split-1-r9'"
      ]
     },
     "execution_count": 11,
     "metadata": {},
     "output_type": "execute_result"
    }
   ],
   "source": [
    "print(f'Total urls: {len(urls)}')\n",
    "first_two = urls[:2]\n",
    "first_two[0]"
   ]
  },
  {
   "cell_type": "code",
   "execution_count": 14,
   "metadata": {},
   "outputs": [],
   "source": [
    "def scrape_match(url):\n",
    "    response = requests.get(url)\n",
    "    soup = BeautifulSoup(response.content, 'html.parser')\n",
    "\n",
    "    # Basic data\n",
    "    match_header_vs_div = soup.find('div', class_='match-header-vs')\n",
    "    team_names = [div.text.strip() for div in match_header_vs_div.find_all('div', class_='wf-title-med')]\n",
    "\n",
    "    scoreline_div = soup.find('div', class_='match-header-vs-score')\n",
    "    winner_score = scoreline_div.find('span', class_='match-header-vs-score-winner').text.strip()\n",
    "    loser_score = scoreline_div.find('span', class_='match-header-vs-score-loser').text.strip()\n",
    "    scoreline = f\"{winner_score}:{loser_score}\"\n",
    "\n",
    "    stage = soup.find('div', class_='match-header-vs-note').text.strip()\n",
    "    match_type = soup.find_all('div', class_='match-header-vs-note')[1].text.strip()\n",
    "\n",
    "    match_header_date_div = soup.find('div', class_='match-header-date')\n",
    "    date = match_header_date_div.find_all('div', class_='moment-tz-convert')[0].text.strip()\n",
    "    time = match_header_date_div.find_all('div', class_='moment-tz-convert')[1].text.strip()\n",
    "\n",
    "    match_data = {\n",
    "        'team_names': team_names,\n",
    "        'scoreline': scoreline,\n",
    "        'stage': stage,\n",
    "        'match_type': match_type,\n",
    "        'date': date,\n",
    "        'time': time\n",
    "    }\n",
    "\n",
    "    return match_data"
   ]
  },
  {
   "cell_type": "code",
   "execution_count": 18,
   "metadata": {},
   "outputs": [
    {
     "name": "stdout",
     "output_type": "stream",
     "text": [
      "{'date': 'Monday, February 12th',\n",
      " 'match_type': 'Bo1',\n",
      " 'scoreline': '1:0',\n",
      " 'stage': 'final',\n",
      " 'team_names': ['Barça eSports', 'AYM Esports'],\n",
      " 'time': '7:00 PM EET'}\n"
     ]
    }
   ],
   "source": [
    "from pprint import pprint\n",
    "\n",
    "pprint(scrape_match(first_two[0]))"
   ]
  }
 ],
 "metadata": {
  "kernelspec": {
   "display_name": "vlr_scraper",
   "language": "python",
   "name": "python3"
  },
  "language_info": {
   "codemirror_mode": {
    "name": "ipython",
    "version": 3
   },
   "file_extension": ".py",
   "mimetype": "text/x-python",
   "name": "python",
   "nbconvert_exporter": "python",
   "pygments_lexer": "ipython3",
   "version": "3.12.1"
  }
 },
 "nbformat": 4,
 "nbformat_minor": 2
}
