{
 "cells": [
  {
   "cell_type": "markdown",
   "metadata": {},
   "source": [
    "# VLR Scraper"
   ]
  },
  {
   "cell_type": "markdown",
   "metadata": {},
   "source": [
    "## Main page, scraping match URLs"
   ]
  },
  {
   "cell_type": "code",
   "execution_count": 3,
   "metadata": {},
   "outputs": [],
   "source": [
    "import requests\n",
    "from bs4 import BeautifulSoup\n",
    "import time\n",
    "from tqdm import tqdm\n",
    "import json\n",
    "from requests.adapters import HTTPAdapter\n",
    "from requests.packages.urllib3.util.retry import Retry\n",
    "\n",
    "# Session with automatic retry on connection errors\n",
    "session = requests.Session()\n",
    "retry = Retry(total=5, backoff_factor=0.1, status_forcelist=[ 500, 502, 503, 504 ])\n",
    "adapter = HTTPAdapter(max_retries=retry)\n",
    "session.mount('http://', adapter)\n",
    "session.mount('https://', adapter)\n",
    "\n",
    "async def req(url, page):\n",
    "    response = requests.get(url)\n",
    "    soup = BeautifulSoup(response.content, 'html.parser')\n",
    "\n",
    "    # Finding URLs for all matches\n",
    "    cards = soup.find_all('div', class_='wf-card')\n",
    "    match_urls = []\n",
    "\n",
    "    for card in cards:\n",
    "        matches = card.find_all('a', class_=['wf-module-item', 'match-item'])\n",
    "        \n",
    "        for match in matches:\n",
    "            match_urls.append('https://www.vlr.gg' + match['href'])\n",
    "\n",
    "    return match_urls"
   ]
  },
  {
   "cell_type": "code",
   "execution_count": null,
   "metadata": {},
   "outputs": [],
   "source": [
    "match_urls = []\n",
    "\n",
    "for page in tqdm(range(1, 476), desc=\"Scraping pages\"):\n",
    "    match_urls += await req(f'https://www.vlr.gg/matches/results?page={page}', page)\n",
    "    time.sleep(2)"
   ]
  },
  {
   "cell_type": "code",
   "execution_count": 5,
   "metadata": {},
   "outputs": [],
   "source": [
    "with open('match_urls.json', 'w') as f:\n",
    "    json.dump(match_urls, f)"
   ]
  }
 ],
 "metadata": {
  "kernelspec": {
   "display_name": "vlr_scraper",
   "language": "python",
   "name": "python3"
  },
  "language_info": {
   "codemirror_mode": {
    "name": "ipython",
    "version": 3
   },
   "file_extension": ".py",
   "mimetype": "text/x-python",
   "name": "python",
   "nbconvert_exporter": "python",
   "pygments_lexer": "ipython3",
   "version": "3.12.1"
  }
 },
 "nbformat": 4,
 "nbformat_minor": 2
}
