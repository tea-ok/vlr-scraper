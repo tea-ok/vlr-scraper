{
 "cells": [
  {
   "cell_type": "markdown",
   "metadata": {},
   "source": [
    "# VLR Scraper"
   ]
  },
  {
   "cell_type": "code",
   "execution_count": 8,
   "metadata": {},
   "outputs": [
    {
     "name": "stdout",
     "output_type": "stream",
     "text": [
      "4\n",
      "Number of matches: 50\n",
      "https://www.vlr.gg/297053/medal-esports-vs-revenant-esports-omen-challengers-league-2024-south-asia-split-1-w3\n",
      "https://www.vlr.gg/297052/carnival-gaming-vs-reckoning-esports-omen-challengers-league-2024-south-asia-split-1-w3\n",
      "https://www.vlr.gg/299561/reject-vs-northeption-challengers-league-2024-japan-split-1-w2\n",
      "https://www.vlr.gg/299560/sengoku-gaming-vs-scarz-challengers-league-2024-japan-split-1-w2\n",
      "https://www.vlr.gg/296831/novo-esports-vs-vx300-gaming-challengers-league-2024-italy-rinascimento-split-1-regular-season-w\n",
      "https://www.vlr.gg/294790/monaco-esports-vs-joblife-challengers-league-2024-france-revolution-split-1-regular-season-w4\n",
      "https://www.vlr.gg/296830/outplayed-vs-happy-game-esport-challengers-league-2024-italy-rinascimento-split-1-regular-season\n",
      "https://www.vlr.gg/296829/dsyre-vs-qlash-challengers-league-2024-italy-rinascimento-split-1-regular-season-w3\n",
      "https://www.vlr.gg/296828/rtzn-vs-axolotl-challengers-league-2024-italy-rinascimento-split-1-regular-season-w3\n",
      "https://www.vlr.gg/299030/mouz-vs-eintracht-frankfurt-challengers-league-2024-dach-evolution-split-1-regular-season-r1\n",
      "https://www.vlr.gg/294789/akroma-vs-solary-challengers-league-2024-france-revolution-split-1-regular-season-w4\n",
      "https://www.vlr.gg/295209/fire-flux-esports-vs-s2g-esports-challengers-league-2024-t-rkiye-birlik-split-1-regular-season-w\n",
      "https://www.vlr.gg/299029/divizon-vs-sk-gaming-challengers-league-2024-dach-evolution-split-1-regular-season-r1\n",
      "https://www.vlr.gg/295208/digital-athletics-vs-galatasaray-esports-challengers-league-2024-t-rkiye-birlik-split-1-regular\n",
      "https://www.vlr.gg/299028/ovation-esports-vs-cgn-esports-challengers-league-2024-dach-evolution-split-1-regular-season-r1\n",
      "https://www.vlr.gg/296804/full-sense-vs-xerxia-esports-afreecatv-challengers-league-2024-thailand-split-1-r5\n",
      "https://www.vlr.gg/297050/grayfox-esports-vs-mlt-esports-omen-challengers-league-2024-south-asia-split-1-w2\n",
      "https://www.vlr.gg/296803/sharper-esport-vs-barn-nong-chok-afreecatv-challengers-league-2024-thailand-split-1-r5\n",
      "https://www.vlr.gg/299439/bnb-vs-carti-esports-challengers-league-2024-philippines-split-1-lf\n",
      "https://www.vlr.gg/297846/murash-gaming-vs-igzist-challengers-league-2024-japan-split-1-w2\n",
      "https://www.vlr.gg/297049/true-rippers-vs-orangutan-omen-challengers-league-2024-south-asia-split-1-w2\n",
      "https://www.vlr.gg/299438/bnb-vs-thebais-challengers-league-2024-philippines-split-1-ubsf\n",
      "https://www.vlr.gg/297845/varrel-vs-fennel-challengers-league-2024-japan-split-1-w2\n",
      "https://www.vlr.gg/299437/carti-esports-vs-old-stinky-cat-challengers-league-2024-philippines-split-1-ubsf\n",
      "https://www.vlr.gg/297844/scarz-vs-reject-challengers-league-2024-japan-split-1-w2\n",
      "https://www.vlr.gg/299121/passion-project-vs-flyquest-red-game-changers-2024-north-america-series-1-gf\n",
      "https://www.vlr.gg/299119/yfp-x-vs-passion-project-game-changers-2024-north-america-series-1-sf\n",
      "https://www.vlr.gg/299120/the-boys-vs-flyquest-red-game-changers-2024-north-america-series-1-sf\n",
      "https://www.vlr.gg/296827/happy-game-esport-vs-novo-esports-challengers-league-2024-italy-rinascimento-split-1-regular-sea\n",
      "https://www.vlr.gg/296826/axolotl-vs-dsyre-challengers-league-2024-italy-rinascimento-split-1-regular-season-w3\n",
      "https://www.vlr.gg/294788/zerance-vs-dvm-esport-challengers-league-2024-france-revolution-split-1-regular-season-w4\n",
      "https://www.vlr.gg/296825/qlash-vs-outplayed-challengers-league-2024-italy-rinascimento-split-1-regular-season-w3\n",
      "https://www.vlr.gg/299027/fokus-vs-alternate-attax-challengers-league-2024-dach-evolution-split-1-regular-season-r1\n",
      "https://www.vlr.gg/295207/howl-esports-vs-regnum-carya-esports-challengers-league-2024-t-rkiye-birlik-split-1-regular-seas\n",
      "https://www.vlr.gg/296824/vx300-gaming-vs-rtzn-challengers-league-2024-italy-rinascimento-split-1-regular-season-w3\n",
      "https://www.vlr.gg/294787/mandatory-vs-valiant-challengers-league-2024-france-revolution-split-1-regular-season-w4\n",
      "https://www.vlr.gg/296987/formulation-gaming-vs-apeks-challengers-league-2024-northern-europe-polaris-split-1-regular-seas\n",
      "https://www.vlr.gg/299026/rizon-vs-unicorns-of-love-challengers-league-2024-dach-evolution-split-1-regular-season-r1\n",
      "https://www.vlr.gg/295206/stanbul-wildcats-vs-fenerbah-e-esports-challengers-league-2024-t-rkiye-birlik-split-1-regular-s\n",
      "https://www.vlr.gg/296986/sweetnsour-vs-human-tripwires-challengers-league-2024-northern-europe-polaris-split-1-regular-se\n",
      "https://www.vlr.gg/296802/made-in-thailand-vs-valee-thai-esports-afreecatv-challengers-league-2024-thailand-split-1-r4\n",
      "https://www.vlr.gg/297048/revenant-esports-vs-carnival-gaming-challengers-league-2024-south-asia-split-1-w2\n",
      "https://www.vlr.gg/296801/attack-all-around-vs-team-nkt-afreecatv-challengers-league-2024-thailand-split-1-r4\n",
      "https://www.vlr.gg/297047/true-rippers-vs-reckoning-esports-challengers-league-2024-south-asia-split-1-w2\n",
      "https://www.vlr.gg/297843/sengoku-gaming-vs-northeption-challengers-league-2024-japan-split-1-w2\n",
      "https://www.vlr.gg/297842/varrel-vs-murash-gaming-challengers-league-2024-japan-split-1-w2\n",
      "https://www.vlr.gg/297841/igzist-vs-fennel-challengers-league-2024-japan-split-1-w2\n",
      "https://www.vlr.gg/299117/the-boys-vs-serendipity-game-changers-2024-north-america-series-1-qf\n",
      "https://www.vlr.gg/299115/yfp-x-vs-infinity-x-game-changers-2024-north-america-series-1-qf\n",
      "https://www.vlr.gg/299116/passion-project-vs-misus-qts-game-changers-2024-north-america-series-1-qf\n"
     ]
    }
   ],
   "source": [
    "import requests\n",
    "from bs4 import BeautifulSoup\n",
    "\n",
    "response = requests.get('https://www.vlr.gg/matches/results')\n",
    "soup = BeautifulSoup(response.content, 'html.parser')\n",
    "\n",
    "# Finding URLs for all matches\n",
    "cards = soup.find_all('div', class_='wf-card')\n",
    "print(len(cards))\n",
    "match_urls = []\n",
    "\n",
    "for card in cards:\n",
    "    matches = card.find_all('a', class_=['wf-module-item', 'match-item'])\n",
    "    \n",
    "    for match in matches:\n",
    "        match_urls.append('https://www.vlr.gg' + match['href'])\n",
    "\n",
    "print(f'Number of matches: {len(match_urls)}')"
   ]
  }
 ],
 "metadata": {
  "kernelspec": {
   "display_name": "vlr_scraper",
   "language": "python",
   "name": "python3"
  },
  "language_info": {
   "codemirror_mode": {
    "name": "ipython",
    "version": 3
   },
   "file_extension": ".py",
   "mimetype": "text/x-python",
   "name": "python",
   "nbconvert_exporter": "python",
   "pygments_lexer": "ipython3",
   "version": "3.12.1"
  }
 },
 "nbformat": 4,
 "nbformat_minor": 2
}
